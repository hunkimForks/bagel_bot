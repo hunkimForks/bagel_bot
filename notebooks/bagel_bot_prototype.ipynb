{
 "cells": [
  {
   "cell_type": "markdown",
   "metadata": {},
   "source": [
    "# Bagel Bot Prototype Code\n",
    "\n",
    "Jupyter notebook to explore slackclient API and develop bagel-bot functionality\n",
    "Can also be used to run bot manually"
   ]
  },
  {
   "cell_type": "code",
   "execution_count": 59,
   "metadata": {},
   "outputs": [],
   "source": [
    "#!pip install --upgrade slackclient"
   ]
  },
  {
   "cell_type": "code",
   "execution_count": 83,
   "metadata": {},
   "outputs": [],
   "source": [
    "import os\n",
    "from slack import WebClient\n",
    "from slack.errors import SlackApiError\n",
    "import json\n",
    "import pandas as pd\n",
    "from os import path\n",
    "from datetime import datetime as dt"
   ]
  },
  {
   "cell_type": "code",
   "execution_count": 75,
   "metadata": {},
   "outputs": [],
   "source": [
    "bagel_token = 'xxx'\n",
    "my_session = WebClient(token=bagel_token)"
   ]
  },
  {
   "cell_type": "code",
   "execution_count": 62,
   "metadata": {},
   "outputs": [],
   "source": [
    "def get_channel_dict(client): \n",
    "    channel_dict = {}\n",
    "    response = client.conversations_list(limit=4000, exclude_archived=True)\n",
    "    channels = response['channels']\n",
    "    for channel in channels:\n",
    "        channel_dict[channel['name']] = channel['id']\n",
    "    return channel_dict"
   ]
  },
  {
   "cell_type": "code",
   "execution_count": 72,
   "metadata": {},
   "outputs": [],
   "source": [
    "# channel_id for test channel\n",
    "my_channel = 'bagel_test'\n",
    "my_channel_id = 'xxxxxxxx'"
   ]
  },
  {
   "cell_type": "code",
   "execution_count": 64,
   "metadata": {},
   "outputs": [],
   "source": [
    "def get_user_df(client, channel_id):\n",
    "    user_info_list: Any = []\n",
    "\n",
    "    response = client.conversations_members(channel=channel_id, limit=100)\n",
    "    user_list = response['members']\n",
    "    for user in user_list:\n",
    "        response = client.users_info(user=user, include_locale=True)\n",
    "        user_info_list += [response['user']]\n",
    "\n",
    "    user_df = pd.DataFrame(user_info_list)[['id', 'name', 'real_name', 'tz']]\n",
    "    user_df = user_df[(~user_df.name.str.contains('donut')) &\n",
    "                      (~user_df.name.str.contains('bagel'))].reset_index(drop=True)\n",
    "\n",
    "    return user_df"
   ]
  },
  {
   "cell_type": "code",
   "execution_count": 65,
   "metadata": {},
   "outputs": [],
   "source": [
    "df = get_user_df(client, channel_id)"
   ]
  },
  {
   "cell_type": "code",
   "execution_count": 86,
   "metadata": {},
   "outputs": [],
   "source": [
    "#df.head()"
   ]
  },
  {
   "cell_type": "code",
   "execution_count": 67,
   "metadata": {},
   "outputs": [],
   "source": [
    "def create_matches(user_df, history_file):\n",
    "\n",
    "    if path.exists(history_file):\n",
    "        history_df = pd.read_csv(history_file)\n",
    "    else:\n",
    "        history_df = pd.DataFrame()\n",
    "\n",
    "    # Match across timezones and with those they haven't matched with yet\n",
    "    possible_cases_df = pd.DataFrame(columns=['name1', 'name2', 'times_paired', 'is_diff_tz'])\n",
    "    user_list = user_df['name'].tolist()\n",
    "\n",
    "    for i in range(len(user_list)):\n",
    "        name1 = user_df['name'][i]\n",
    "        for j in range(i + 1, len(user_list)):\n",
    "            name2 = user_df['name'][j]\n",
    "\n",
    "            if len(history_df) > 0:\n",
    "                tmp_hist_df = history_df[((history_df['name1'] == name1) &\n",
    "                                          (history_df['name2'] == name2)) |\n",
    "                                         ((history_df['name2'] == name1) &\n",
    "                                          (history_df['name1'] == name2))]\n",
    "                times_paired = len(tmp_hist_df)\n",
    "            else:\n",
    "                times_paired = 0\n",
    "\n",
    "            name1_mask = user_df['name'].values == name1\n",
    "            name2_mask = user_df['name'].values == name2\n",
    "\n",
    "            name1_tz = user_df[name1_mask]['tz'].values[0]\n",
    "            name2_tz = user_df[name2_mask]['tz'].values[0]\n",
    "\n",
    "            is_diff_tz = (name1_tz != name2_tz)\n",
    "\n",
    "            possible_cases_df = possible_cases_df.append({'name1': name1,\n",
    "                                                          'name2': name2,\n",
    "                                                          'times_paired': times_paired,\n",
    "                                                          'is_diff_tz': is_diff_tz}, ignore_index=True)\n",
    "\n",
    "    possible_cases_df['match_strength'] = (possible_cases_df['is_diff_tz'] * 2) - possible_cases_df['times_paired']\n",
    "    filter_cases_df = possible_cases_df.copy(deep=True)\n",
    "\n",
    "    match_df = pd.DataFrame(columns=['name1', 'name2'])\n",
    "    ind = 0\n",
    "    for user in user_df['name'].tolist():\n",
    "        top_user_match = filter_cases_df[(filter_cases_df['name1'] == user) |\n",
    "                                         (filter_cases_df['name2'] == user)].sort_values('match_strength',\n",
    "                                                                                         ascending=False).reset_index(\n",
    "            drop=True)[['name1', 'name2']].head(1).reset_index(drop=True)\n",
    "        if len(top_user_match.index) > 0:\n",
    "            name1 = top_user_match.name1.values[0]\n",
    "            name2 = top_user_match.name2.values[0]\n",
    "            match_df.loc[ind] = [name1, name2]\n",
    "            filter_cases_df = filter_cases_df[(filter_cases_df['name1'] != name1) &\n",
    "                                              (filter_cases_df['name2'] != name1)]\n",
    "            filter_cases_df = filter_cases_df[(filter_cases_df['name1'] != name2) &\n",
    "                                              (filter_cases_df['name2'] != name2)]\n",
    "            ind += 1\n",
    "\n",
    "    # Find if anyone wasn't matched, make a second match with their top option\n",
    "    for user in user_df['name'].tolist():\n",
    "        tmp_match_df = match_df[(match_df['name1'] == user) |\n",
    "                                (match_df['name2'] == user)]\n",
    "        if len(tmp_match_df.index) == 0:\n",
    "            print(f'User: {user} was not matched. Setting a second match up for them...')\n",
    "            top_user_match = possible_cases_df[(possible_cases_df['name1'] == user) |\n",
    "                                               (possible_cases_df['name2'] == user)].sort_values('match_strength',\n",
    "                                                                                                 ascending=False).reset_index(\n",
    "                drop=True)[['name1', 'name2']].head(1).reset_index(drop=True)\n",
    "\n",
    "            name1 = top_user_match.name1.values[0]\n",
    "            name2 = top_user_match.name2.values[0]\n",
    "            match_df.loc[ind] = [name1, name2]\n",
    "\n",
    "    today = dt.strftime(dt.now(), \"%Y-%m-%d\")\n",
    "    match_df['match_date'] = today\n",
    "\n",
    "    return match_df\n",
    "\n",
    "\n",
    "def update_history(match_df, history_file):\n",
    "\n",
    "    if path.exists(history_file):\n",
    "        history_df = pd.read_csv(history_file)\n",
    "    else:\n",
    "        history_df = pd.DataFrame()\n",
    "\n",
    "    history_df = pd.concat([history_df, match_df])\n",
    "    history_df.to_csv(history_file, index=False)"
   ]
  },
  {
   "cell_type": "code",
   "execution_count": 68,
   "metadata": {},
   "outputs": [],
   "source": [
    "def post_matches(client, user_df, match_df, my_channel_id):\n",
    "\n",
    "    for i in range(len(match_df)):\n",
    "        user1 = match_df[match_df.index == i].name1.values[0]\n",
    "        user2 = match_df[match_df.index == i].name2.values[0]\n",
    "        user1_id = user_df[user_df['name'] == user1]['id'].values[0]\n",
    "        user2_id = user_df[user_df['name'] == user2]['id'].values[0]\n",
    "        response = client.conversations_open(users=[user1_id, user2_id], return_im=True)\n",
    "        conv_id = response['channel']['id']\n",
    "        response = client.chat_postMessage(channel=conv_id,\n",
    "                                           text=f'Hello <@{user1_id}> and <@{user2_id}>! Welcome to a new round of Bagel-Bot! Please use this DM channel to set up time to connect!',\n",
    "                                           as_user='@bagel-bot')\n",
    "\n",
    "    # Send pairings to the ds_donut channel\n",
    "    response = client.chat_postMessage(channel=my_channel_id,\n",
    "                                       text='The new round of pairings are in! You should have received a DM from bagel-bot with your new Bagel partner. Please post a photo here of your chat. Chat, chat away!',\n",
    "                                       as_user='@bagel_bot')\n",
    "    for i in range(0, len(match_df.index)):\n",
    "        user1 = match_df[match_df.index == i].name1.values[0]\n",
    "        user2 = match_df[match_df.index == i].name2.values[0]\n",
    "        user1_id = user_df[user_df['name'] == user1]['id'].values[0]\n",
    "        user2_id = user_df[user_df['name'] == user2]['id'].values[0]\n",
    "        response = client.chat_postMessage(channel=my_channel_id,\n",
    "                                           text=f'<@{user1_id}> and <@{user2_id}>',\n",
    "                                           as_user='@bagel-bot')\n"
   ]
  },
  {
   "cell_type": "code",
   "execution_count": 79,
   "metadata": {},
   "outputs": [],
   "source": [
    "post_matches = False\n",
    "my_history_file = \"my_channel_history.csv\""
   ]
  },
  {
   "cell_type": "code",
   "execution_count": 87,
   "metadata": {},
   "outputs": [],
   "source": [
    "#print(f\"Getting users in {my_channel} channel...\")\n",
    "my_user_df = get_user_df(my_session, my_channel_id)\n",
    "num_users = len(my_user_df)\n",
    "#print(f\"{num_users} users found!\")"
   ]
  },
  {
   "cell_type": "code",
   "execution_count": 88,
   "metadata": {},
   "outputs": [],
   "source": [
    "#my_user_df.head()"
   ]
  },
  {
   "cell_type": "code",
   "execution_count": null,
   "metadata": {},
   "outputs": [],
   "source": [
    "print(f\"Generating optimal matches, this could take some time...\")\n",
    "match_df = create_matches(my_user_df, my_history_file)\n",
    "\n",
    "print(\"The following matches have been generated:\")\n",
    "#match_df.head()"
   ]
  },
  {
   "cell_type": "code",
   "execution_count": 85,
   "metadata": {},
   "outputs": [],
   "source": [
    "if post_matches:\n",
    "    print(f\"Posting matches to {my_channel} channel.\")\n",
    "    print(\"Setting up DM channels for matched pairs.\")\n",
    "    post_matches(my_session, my_user_df, match_df, my_channel_id)\n",
    "\n",
    "    print(\"Updating history.\")\n",
    "    update_history(match_df, my_history_file)"
   ]
  }
 ],
 "metadata": {
  "kernelspec": {
   "display_name": "Python 3",
   "language": "python",
   "name": "python3"
  },
  "language_info": {
   "codemirror_mode": {
    "name": "ipython",
    "version": 3
   },
   "file_extension": ".py",
   "mimetype": "text/x-python",
   "name": "python",
   "nbconvert_exporter": "python",
   "pygments_lexer": "ipython3",
   "version": "3.7.7"
  }
 },
 "nbformat": 4,
 "nbformat_minor": 4
}
